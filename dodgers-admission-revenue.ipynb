{
 "cells": [
  {
   "cell_type": "code",
   "execution_count": 1,
   "metadata": {},
   "outputs": [],
   "source": [
    "import pandas as pd\n",
    "import seaborn as sns\n",
    "import scipy\n",
    "import matplotlib.pyplot as plt"
   ]
  },
  {
   "cell_type": "code",
   "execution_count": 2,
   "metadata": {},
   "outputs": [],
   "source": [
    "df = pd.read_csv('https://raw.githubusercontent.com/cabriggs/dodgers-admission-revenue/master/dodgers.csv')"
   ]
  },
  {
   "cell_type": "code",
   "execution_count": 3,
   "metadata": {},
   "outputs": [],
   "source": [
    "df.to_csv('dodgers.csv')"
   ]
  },
  {
   "cell_type": "code",
   "execution_count": 4,
   "metadata": {},
   "outputs": [
    {
     "data": {
      "text/html": [
       "<div>\n",
       "<style scoped>\n",
       "    .dataframe tbody tr th:only-of-type {\n",
       "        vertical-align: middle;\n",
       "    }\n",
       "\n",
       "    .dataframe tbody tr th {\n",
       "        vertical-align: top;\n",
       "    }\n",
       "\n",
       "    .dataframe thead th {\n",
       "        text-align: right;\n",
       "    }\n",
       "</style>\n",
       "<table border=\"1\" class=\"dataframe\">\n",
       "  <thead>\n",
       "    <tr style=\"text-align: right;\">\n",
       "      <th></th>\n",
       "      <th>Unnamed: 0</th>\n",
       "      <th>month</th>\n",
       "      <th>day</th>\n",
       "      <th>attend</th>\n",
       "      <th>day_of_week</th>\n",
       "      <th>opponent</th>\n",
       "      <th>temp</th>\n",
       "      <th>skies</th>\n",
       "      <th>day_night</th>\n",
       "      <th>cap</th>\n",
       "      <th>shirt</th>\n",
       "      <th>fireworks</th>\n",
       "      <th>bobblehead</th>\n",
       "    </tr>\n",
       "  </thead>\n",
       "  <tbody>\n",
       "    <tr>\n",
       "      <th>0</th>\n",
       "      <td>0</td>\n",
       "      <td>APR</td>\n",
       "      <td>10</td>\n",
       "      <td>56000</td>\n",
       "      <td>Tuesday</td>\n",
       "      <td>Pirates</td>\n",
       "      <td>67</td>\n",
       "      <td>Clear</td>\n",
       "      <td>Day</td>\n",
       "      <td>NO</td>\n",
       "      <td>NO</td>\n",
       "      <td>NO</td>\n",
       "      <td>NO</td>\n",
       "    </tr>\n",
       "    <tr>\n",
       "      <th>1</th>\n",
       "      <td>1</td>\n",
       "      <td>APR</td>\n",
       "      <td>11</td>\n",
       "      <td>29729</td>\n",
       "      <td>Wednesday</td>\n",
       "      <td>Pirates</td>\n",
       "      <td>58</td>\n",
       "      <td>Cloudy</td>\n",
       "      <td>Night</td>\n",
       "      <td>NO</td>\n",
       "      <td>NO</td>\n",
       "      <td>NO</td>\n",
       "      <td>NO</td>\n",
       "    </tr>\n",
       "    <tr>\n",
       "      <th>2</th>\n",
       "      <td>2</td>\n",
       "      <td>APR</td>\n",
       "      <td>12</td>\n",
       "      <td>28328</td>\n",
       "      <td>Thursday</td>\n",
       "      <td>Pirates</td>\n",
       "      <td>57</td>\n",
       "      <td>Cloudy</td>\n",
       "      <td>Night</td>\n",
       "      <td>NO</td>\n",
       "      <td>NO</td>\n",
       "      <td>NO</td>\n",
       "      <td>NO</td>\n",
       "    </tr>\n",
       "    <tr>\n",
       "      <th>3</th>\n",
       "      <td>3</td>\n",
       "      <td>APR</td>\n",
       "      <td>13</td>\n",
       "      <td>31601</td>\n",
       "      <td>Friday</td>\n",
       "      <td>Padres</td>\n",
       "      <td>54</td>\n",
       "      <td>Cloudy</td>\n",
       "      <td>Night</td>\n",
       "      <td>NO</td>\n",
       "      <td>NO</td>\n",
       "      <td>YES</td>\n",
       "      <td>NO</td>\n",
       "    </tr>\n",
       "    <tr>\n",
       "      <th>4</th>\n",
       "      <td>4</td>\n",
       "      <td>APR</td>\n",
       "      <td>14</td>\n",
       "      <td>46549</td>\n",
       "      <td>Saturday</td>\n",
       "      <td>Padres</td>\n",
       "      <td>57</td>\n",
       "      <td>Cloudy</td>\n",
       "      <td>Night</td>\n",
       "      <td>NO</td>\n",
       "      <td>NO</td>\n",
       "      <td>NO</td>\n",
       "      <td>NO</td>\n",
       "    </tr>\n",
       "  </tbody>\n",
       "</table>\n",
       "</div>"
      ],
      "text/plain": [
       "   Unnamed: 0 month  day  attend day_of_week opponent  temp   skies day_night  \\\n",
       "0           0   APR   10   56000     Tuesday  Pirates    67  Clear        Day   \n",
       "1           1   APR   11   29729   Wednesday  Pirates    58  Cloudy     Night   \n",
       "2           2   APR   12   28328    Thursday  Pirates    57  Cloudy     Night   \n",
       "3           3   APR   13   31601      Friday   Padres    54  Cloudy     Night   \n",
       "4           4   APR   14   46549    Saturday   Padres    57  Cloudy     Night   \n",
       "\n",
       "  cap shirt fireworks bobblehead  \n",
       "0  NO    NO        NO         NO  \n",
       "1  NO    NO        NO         NO  \n",
       "2  NO    NO        NO         NO  \n",
       "3  NO    NO       YES         NO  \n",
       "4  NO    NO        NO         NO  "
      ]
     },
     "execution_count": 4,
     "metadata": {},
     "output_type": "execute_result"
    }
   ],
   "source": [
    "df.head()"
   ]
  },
  {
   "cell_type": "markdown",
   "metadata": {},
   "source": [
    "We have a dataset showing attendance numbers and several other properties of each game day. As an alayst working for the Dodgers, presumably my aim is to increase profits which means increasing attendance in a cost-effective way. Let's see what correlates with attendance.\n",
    "\n",
    "There are some categorical variables here. For categories with hierarchical levels, and in particular for any categorical variable with only two outcomes, it makes sense to convert to numerical. We can then compute correlations."
   ]
  },
  {
   "cell_type": "code",
   "execution_count": 5,
   "metadata": {},
   "outputs": [],
   "source": [
    "def bincat_to_bin(word,zero='no',one='yes'):\n",
    "# Accepts: a variable outcome to change to 0 or 1\n",
    "#          optional categorical arguments\n",
    "# Returns: 0 or 1\n",
    "    if word.strip().lower()==zero:\n",
    "        return(0)\n",
    "    elif word.strip().lower()==one:\n",
    "        return(1)"
   ]
  },
  {
   "cell_type": "code",
   "execution_count": 6,
   "metadata": {},
   "outputs": [],
   "source": [
    "# The variables and their outcomes to be converted to binary\n",
    "bin_cats = {'skies':['cloudy','clear'],\n",
    "            'day_night':['day','night'],\n",
    "            'cap':['no','yes'],\n",
    "            'shirt':['no','yes'],\n",
    "            'fireworks':['no','yes'],\n",
    "            'bobblehead':['no','yes']}"
   ]
  },
  {
   "cell_type": "code",
   "execution_count": 7,
   "metadata": {},
   "outputs": [],
   "source": [
    "# converting select columns to binary\n",
    "for col in bin_cats.keys():\n",
    "    df[col+'_bin']=df[col].apply(bincat_to_bin,\n",
    "                                 args=(bin_cats[col][0],bin_cats[col][1]))"
   ]
  },
  {
   "cell_type": "code",
   "execution_count": 8,
   "metadata": {},
   "outputs": [
    {
     "data": {
      "text/html": [
       "<div>\n",
       "<style scoped>\n",
       "    .dataframe tbody tr th:only-of-type {\n",
       "        vertical-align: middle;\n",
       "    }\n",
       "\n",
       "    .dataframe tbody tr th {\n",
       "        vertical-align: top;\n",
       "    }\n",
       "\n",
       "    .dataframe thead th {\n",
       "        text-align: right;\n",
       "    }\n",
       "</style>\n",
       "<table border=\"1\" class=\"dataframe\">\n",
       "  <thead>\n",
       "    <tr style=\"text-align: right;\">\n",
       "      <th></th>\n",
       "      <th>Unnamed: 0</th>\n",
       "      <th>month</th>\n",
       "      <th>day</th>\n",
       "      <th>attend</th>\n",
       "      <th>day_of_week</th>\n",
       "      <th>opponent</th>\n",
       "      <th>temp</th>\n",
       "      <th>skies</th>\n",
       "      <th>day_night</th>\n",
       "      <th>cap</th>\n",
       "      <th>shirt</th>\n",
       "      <th>fireworks</th>\n",
       "      <th>bobblehead</th>\n",
       "      <th>skies_bin</th>\n",
       "      <th>day_night_bin</th>\n",
       "      <th>cap_bin</th>\n",
       "      <th>shirt_bin</th>\n",
       "      <th>fireworks_bin</th>\n",
       "      <th>bobblehead_bin</th>\n",
       "    </tr>\n",
       "  </thead>\n",
       "  <tbody>\n",
       "    <tr>\n",
       "      <th>0</th>\n",
       "      <td>0</td>\n",
       "      <td>APR</td>\n",
       "      <td>10</td>\n",
       "      <td>56000</td>\n",
       "      <td>Tuesday</td>\n",
       "      <td>Pirates</td>\n",
       "      <td>67</td>\n",
       "      <td>Clear</td>\n",
       "      <td>Day</td>\n",
       "      <td>NO</td>\n",
       "      <td>NO</td>\n",
       "      <td>NO</td>\n",
       "      <td>NO</td>\n",
       "      <td>1</td>\n",
       "      <td>0</td>\n",
       "      <td>0</td>\n",
       "      <td>0</td>\n",
       "      <td>0</td>\n",
       "      <td>0</td>\n",
       "    </tr>\n",
       "    <tr>\n",
       "      <th>1</th>\n",
       "      <td>1</td>\n",
       "      <td>APR</td>\n",
       "      <td>11</td>\n",
       "      <td>29729</td>\n",
       "      <td>Wednesday</td>\n",
       "      <td>Pirates</td>\n",
       "      <td>58</td>\n",
       "      <td>Cloudy</td>\n",
       "      <td>Night</td>\n",
       "      <td>NO</td>\n",
       "      <td>NO</td>\n",
       "      <td>NO</td>\n",
       "      <td>NO</td>\n",
       "      <td>0</td>\n",
       "      <td>1</td>\n",
       "      <td>0</td>\n",
       "      <td>0</td>\n",
       "      <td>0</td>\n",
       "      <td>0</td>\n",
       "    </tr>\n",
       "    <tr>\n",
       "      <th>2</th>\n",
       "      <td>2</td>\n",
       "      <td>APR</td>\n",
       "      <td>12</td>\n",
       "      <td>28328</td>\n",
       "      <td>Thursday</td>\n",
       "      <td>Pirates</td>\n",
       "      <td>57</td>\n",
       "      <td>Cloudy</td>\n",
       "      <td>Night</td>\n",
       "      <td>NO</td>\n",
       "      <td>NO</td>\n",
       "      <td>NO</td>\n",
       "      <td>NO</td>\n",
       "      <td>0</td>\n",
       "      <td>1</td>\n",
       "      <td>0</td>\n",
       "      <td>0</td>\n",
       "      <td>0</td>\n",
       "      <td>0</td>\n",
       "    </tr>\n",
       "    <tr>\n",
       "      <th>3</th>\n",
       "      <td>3</td>\n",
       "      <td>APR</td>\n",
       "      <td>13</td>\n",
       "      <td>31601</td>\n",
       "      <td>Friday</td>\n",
       "      <td>Padres</td>\n",
       "      <td>54</td>\n",
       "      <td>Cloudy</td>\n",
       "      <td>Night</td>\n",
       "      <td>NO</td>\n",
       "      <td>NO</td>\n",
       "      <td>YES</td>\n",
       "      <td>NO</td>\n",
       "      <td>0</td>\n",
       "      <td>1</td>\n",
       "      <td>0</td>\n",
       "      <td>0</td>\n",
       "      <td>1</td>\n",
       "      <td>0</td>\n",
       "    </tr>\n",
       "    <tr>\n",
       "      <th>4</th>\n",
       "      <td>4</td>\n",
       "      <td>APR</td>\n",
       "      <td>14</td>\n",
       "      <td>46549</td>\n",
       "      <td>Saturday</td>\n",
       "      <td>Padres</td>\n",
       "      <td>57</td>\n",
       "      <td>Cloudy</td>\n",
       "      <td>Night</td>\n",
       "      <td>NO</td>\n",
       "      <td>NO</td>\n",
       "      <td>NO</td>\n",
       "      <td>NO</td>\n",
       "      <td>0</td>\n",
       "      <td>1</td>\n",
       "      <td>0</td>\n",
       "      <td>0</td>\n",
       "      <td>0</td>\n",
       "      <td>0</td>\n",
       "    </tr>\n",
       "  </tbody>\n",
       "</table>\n",
       "</div>"
      ],
      "text/plain": [
       "   Unnamed: 0 month  day  attend day_of_week opponent  temp   skies day_night  \\\n",
       "0           0   APR   10   56000     Tuesday  Pirates    67  Clear        Day   \n",
       "1           1   APR   11   29729   Wednesday  Pirates    58  Cloudy     Night   \n",
       "2           2   APR   12   28328    Thursday  Pirates    57  Cloudy     Night   \n",
       "3           3   APR   13   31601      Friday   Padres    54  Cloudy     Night   \n",
       "4           4   APR   14   46549    Saturday   Padres    57  Cloudy     Night   \n",
       "\n",
       "  cap shirt fireworks bobblehead  skies_bin  day_night_bin  cap_bin  \\\n",
       "0  NO    NO        NO         NO          1              0        0   \n",
       "1  NO    NO        NO         NO          0              1        0   \n",
       "2  NO    NO        NO         NO          0              1        0   \n",
       "3  NO    NO       YES         NO          0              1        0   \n",
       "4  NO    NO        NO         NO          0              1        0   \n",
       "\n",
       "   shirt_bin  fireworks_bin  bobblehead_bin  \n",
       "0          0              0               0  \n",
       "1          0              0               0  \n",
       "2          0              0               0  \n",
       "3          0              1               0  \n",
       "4          0              0               0  "
      ]
     },
     "execution_count": 8,
     "metadata": {},
     "output_type": "execute_result"
    }
   ],
   "source": [
    "df.head()"
   ]
  },
  {
   "cell_type": "code",
   "execution_count": 9,
   "metadata": {},
   "outputs": [
    {
     "data": {
      "text/html": [
       "<div>\n",
       "<style scoped>\n",
       "    .dataframe tbody tr th:only-of-type {\n",
       "        vertical-align: middle;\n",
       "    }\n",
       "\n",
       "    .dataframe tbody tr th {\n",
       "        vertical-align: top;\n",
       "    }\n",
       "\n",
       "    .dataframe thead th {\n",
       "        text-align: right;\n",
       "    }\n",
       "</style>\n",
       "<table border=\"1\" class=\"dataframe\">\n",
       "  <thead>\n",
       "    <tr style=\"text-align: right;\">\n",
       "      <th></th>\n",
       "      <th>Unnamed: 0</th>\n",
       "      <th>day</th>\n",
       "      <th>attend</th>\n",
       "      <th>temp</th>\n",
       "      <th>skies_bin</th>\n",
       "      <th>day_night_bin</th>\n",
       "      <th>cap_bin</th>\n",
       "      <th>shirt_bin</th>\n",
       "      <th>fireworks_bin</th>\n",
       "      <th>bobblehead_bin</th>\n",
       "    </tr>\n",
       "  </thead>\n",
       "  <tbody>\n",
       "    <tr>\n",
       "      <th>Unnamed: 0</th>\n",
       "      <td>1.000000</td>\n",
       "      <td>-0.155981</td>\n",
       "      <td>0.057033</td>\n",
       "      <td>0.821758</td>\n",
       "      <td>0.152029</td>\n",
       "      <td>-0.013593</td>\n",
       "      <td>0.051039</td>\n",
       "      <td>-0.027960</td>\n",
       "      <td>-0.013965</td>\n",
       "      <td>-0.007707</td>\n",
       "    </tr>\n",
       "    <tr>\n",
       "      <th>day</th>\n",
       "      <td>-0.155981</td>\n",
       "      <td>1.000000</td>\n",
       "      <td>0.027093</td>\n",
       "      <td>-0.127612</td>\n",
       "      <td>0.038396</td>\n",
       "      <td>-0.039828</td>\n",
       "      <td>-0.202274</td>\n",
       "      <td>-0.030182</td>\n",
       "      <td>0.099528</td>\n",
       "      <td>0.145363</td>\n",
       "    </tr>\n",
       "    <tr>\n",
       "      <th>attend</th>\n",
       "      <td>0.057033</td>\n",
       "      <td>0.027093</td>\n",
       "      <td>1.000000</td>\n",
       "      <td>0.098951</td>\n",
       "      <td>0.150963</td>\n",
       "      <td>-0.043544</td>\n",
       "      <td>-0.055002</td>\n",
       "      <td>0.133269</td>\n",
       "      <td>0.002094</td>\n",
       "      <td>0.581895</td>\n",
       "    </tr>\n",
       "    <tr>\n",
       "      <th>temp</th>\n",
       "      <td>0.821758</td>\n",
       "      <td>-0.127612</td>\n",
       "      <td>0.098951</td>\n",
       "      <td>1.000000</td>\n",
       "      <td>0.316584</td>\n",
       "      <td>-0.272141</td>\n",
       "      <td>0.064521</td>\n",
       "      <td>0.004394</td>\n",
       "      <td>-0.189899</td>\n",
       "      <td>0.049573</td>\n",
       "    </tr>\n",
       "    <tr>\n",
       "      <th>skies_bin</th>\n",
       "      <td>0.152029</td>\n",
       "      <td>0.038396</td>\n",
       "      <td>0.150963</td>\n",
       "      <td>0.316584</td>\n",
       "      <td>1.000000</td>\n",
       "      <td>-0.188903</td>\n",
       "      <td>-0.099671</td>\n",
       "      <td>0.108566</td>\n",
       "      <td>0.021880</td>\n",
       "      <td>0.049349</td>\n",
       "    </tr>\n",
       "    <tr>\n",
       "      <th>day_night_bin</th>\n",
       "      <td>-0.013593</td>\n",
       "      <td>-0.039828</td>\n",
       "      <td>-0.043544</td>\n",
       "      <td>-0.272141</td>\n",
       "      <td>-0.188903</td>\n",
       "      <td>1.000000</td>\n",
       "      <td>-0.128951</td>\n",
       "      <td>-0.074796</td>\n",
       "      <td>0.217922</td>\n",
       "      <td>0.188982</td>\n",
       "    </tr>\n",
       "    <tr>\n",
       "      <th>cap_bin</th>\n",
       "      <td>0.051039</td>\n",
       "      <td>-0.202274</td>\n",
       "      <td>-0.055002</td>\n",
       "      <td>0.064521</td>\n",
       "      <td>-0.099671</td>\n",
       "      <td>-0.128951</td>\n",
       "      <td>1.000000</td>\n",
       "      <td>-0.031204</td>\n",
       "      <td>-0.072732</td>\n",
       "      <td>-0.063074</td>\n",
       "    </tr>\n",
       "    <tr>\n",
       "      <th>shirt_bin</th>\n",
       "      <td>-0.027960</td>\n",
       "      <td>-0.030182</td>\n",
       "      <td>0.133269</td>\n",
       "      <td>0.004394</td>\n",
       "      <td>0.108566</td>\n",
       "      <td>-0.074796</td>\n",
       "      <td>-0.031204</td>\n",
       "      <td>1.000000</td>\n",
       "      <td>-0.089648</td>\n",
       "      <td>-0.077743</td>\n",
       "    </tr>\n",
       "    <tr>\n",
       "      <th>fireworks_bin</th>\n",
       "      <td>-0.013965</td>\n",
       "      <td>0.099528</td>\n",
       "      <td>0.002094</td>\n",
       "      <td>-0.189899</td>\n",
       "      <td>0.021880</td>\n",
       "      <td>0.217922</td>\n",
       "      <td>-0.072732</td>\n",
       "      <td>-0.089648</td>\n",
       "      <td>1.000000</td>\n",
       "      <td>-0.181207</td>\n",
       "    </tr>\n",
       "    <tr>\n",
       "      <th>bobblehead_bin</th>\n",
       "      <td>-0.007707</td>\n",
       "      <td>0.145363</td>\n",
       "      <td>0.581895</td>\n",
       "      <td>0.049573</td>\n",
       "      <td>0.049349</td>\n",
       "      <td>0.188982</td>\n",
       "      <td>-0.063074</td>\n",
       "      <td>-0.077743</td>\n",
       "      <td>-0.181207</td>\n",
       "      <td>1.000000</td>\n",
       "    </tr>\n",
       "  </tbody>\n",
       "</table>\n",
       "</div>"
      ],
      "text/plain": [
       "                Unnamed: 0       day    attend      temp  skies_bin  \\\n",
       "Unnamed: 0        1.000000 -0.155981  0.057033  0.821758   0.152029   \n",
       "day              -0.155981  1.000000  0.027093 -0.127612   0.038396   \n",
       "attend            0.057033  0.027093  1.000000  0.098951   0.150963   \n",
       "temp              0.821758 -0.127612  0.098951  1.000000   0.316584   \n",
       "skies_bin         0.152029  0.038396  0.150963  0.316584   1.000000   \n",
       "day_night_bin    -0.013593 -0.039828 -0.043544 -0.272141  -0.188903   \n",
       "cap_bin           0.051039 -0.202274 -0.055002  0.064521  -0.099671   \n",
       "shirt_bin        -0.027960 -0.030182  0.133269  0.004394   0.108566   \n",
       "fireworks_bin    -0.013965  0.099528  0.002094 -0.189899   0.021880   \n",
       "bobblehead_bin   -0.007707  0.145363  0.581895  0.049573   0.049349   \n",
       "\n",
       "                day_night_bin   cap_bin  shirt_bin  fireworks_bin  \\\n",
       "Unnamed: 0          -0.013593  0.051039  -0.027960      -0.013965   \n",
       "day                 -0.039828 -0.202274  -0.030182       0.099528   \n",
       "attend              -0.043544 -0.055002   0.133269       0.002094   \n",
       "temp                -0.272141  0.064521   0.004394      -0.189899   \n",
       "skies_bin           -0.188903 -0.099671   0.108566       0.021880   \n",
       "day_night_bin        1.000000 -0.128951  -0.074796       0.217922   \n",
       "cap_bin             -0.128951  1.000000  -0.031204      -0.072732   \n",
       "shirt_bin           -0.074796 -0.031204   1.000000      -0.089648   \n",
       "fireworks_bin        0.217922 -0.072732  -0.089648       1.000000   \n",
       "bobblehead_bin       0.188982 -0.063074  -0.077743      -0.181207   \n",
       "\n",
       "                bobblehead_bin  \n",
       "Unnamed: 0           -0.007707  \n",
       "day                   0.145363  \n",
       "attend                0.581895  \n",
       "temp                  0.049573  \n",
       "skies_bin             0.049349  \n",
       "day_night_bin         0.188982  \n",
       "cap_bin              -0.063074  \n",
       "shirt_bin            -0.077743  \n",
       "fireworks_bin        -0.181207  \n",
       "bobblehead_bin        1.000000  "
      ]
     },
     "execution_count": 9,
     "metadata": {},
     "output_type": "execute_result"
    }
   ],
   "source": [
    "# show the correlation matrix\n",
    "df.corr()"
   ]
  },
  {
   "cell_type": "markdown",
   "metadata": {},
   "source": [
    "The variable most strikingly correlated with attendance is whether a bobblehead was given. Strictly from this data the causality is not clear: it may be that bobbleheads were given on special nights (e.g. final game of a series) and that resulted in higher attendance.\n",
    "\n",
    "People may be getting cold. There's a positive correlation between temperature and attendance."
   ]
  },
  {
   "cell_type": "code",
   "execution_count": 10,
   "metadata": {},
   "outputs": [
    {
     "name": "stdout",
     "output_type": "stream",
     "text": [
      "98.71542724060386 0.3794693886882514\n"
     ]
    },
    {
     "name": "stderr",
     "output_type": "stream",
     "text": [
      "/home/lillian/.local/lib/python3.8/site-packages/seaborn/_decorators.py:36: FutureWarning: Pass the following variables as keyword args: x, y. From version 0.12, the only valid positional argument will be `data`, and passing other arguments without an explicit keyword will result in an error or misinterpretation.\n",
      "  warnings.warn(\n"
     ]
    },
    {
     "data": {
      "image/png": "[encoded data removed]",
      "text/plain": [
       "<Figure size 432x288 with 1 Axes>"
      ]
     },
     "metadata": {
      "needs_background": "light"
     },
     "output_type": "display_data"
    }
   ],
   "source": [
    "# plot attend vs temp with regression line and confidence interval\n",
    "sns.regplot(df['temp'],df['attend'])\n",
    "slope, intercept, r_value, p_value, std_err = scipy.stats.linregress(df['temp'],df['attend'])\n",
    "# slope represents marginal tickets sold per degree F increase\n",
    "print(slope, p_value)"
   ]
  },
  {
   "cell_type": "markdown",
   "metadata": {},
   "source": [
    "On second thought, the p_value is insignificant. Let's move on.\n",
    "\n",
    "Predictably, attendance will be higher on weekends than weekdays. Everyone knows this, and some things can't be helped. Let's examine attendance by day of the week."
   ]
  },
  {
   "cell_type": "code",
   "execution_count": 11,
   "metadata": {},
   "outputs": [
    {
     "data": {
      "image/png": "[encoded data removed]",
      "text/plain": [
       "<Figure size 432x288 with 1 Axes>"
      ]
     },
     "metadata": {
      "needs_background": "light"
     },
     "output_type": "display_data"
    }
   ],
   "source": [
    "# plotting average attendance by day of week - expecting peaks on weekends\n",
    "days={'M':'Monday','T':'Tuesday','W':'Wednesday','R':'Thursday',\n",
    "      'F':'Friday','S':'Saturday','U':'Sunday'}\n",
    "attend_by_day = []\n",
    "for day in days.keys():\n",
    "    attend_by_day.append(df[df['day_of_week']==days[day]].attend.mean())\n",
    "\n",
    "fig = plt.figure()\n",
    "ax = fig.add_axes([0,0,1,1])\n",
    "x = days.keys()\n",
    "ax.bar(x,attend_by_day)\n",
    "ax.set_xlabel('day of week')\n",
    "ax.set_ylabel('average attendance')\n",
    "plt.show()"
   ]
  },
  {
   "cell_type": "markdown",
   "metadata": {},
   "source": [
    "OK - I was wrong. Tuesday is the most popular day to go see the Dodgers. This can't be organic. There must be a promotion already in play to increase Tuesday attendance. Let's see if one of the perks in our dataset (cap, shirt, fireworks, bobblehead) disproportionately falls on Tuesdays."
   ]
  },
  {
   "cell_type": "code",
   "execution_count": 12,
   "metadata": {},
   "outputs": [
    {
     "data": {
      "image/png": "[encoded data removed]",
      "text/plain": [
       "<Figure size 720x2160 with 4 Axes>"
      ]
     },
     "metadata": {
      "needs_background": "light"
     },
     "output_type": "display_data"
    }
   ],
   "source": [
    "# for each perk, graphings its distribution over the days of the week\n",
    "fig, axs = plt.subplots(4,figsize=(10,30))\n",
    "plot_coords = [(0,0),(0,1),(1,0),(1,1)]\n",
    "perks = ['cap','shirt','fireworks','bobblehead']\n",
    "count = 0\n",
    "for perk in perks:\n",
    "    ys=[]\n",
    "    for day in days.keys():\n",
    "        df_ = df[df['day_of_week']==days[day]]\n",
    "        ys.append(len(df_[df_[perk]==bin_cats[perk][1].upper()]))\n",
    "    axs[count].set_title(f'perk: {perk}')\n",
    "    axs[count].bar(days.keys(),ys)\n",
    "    axs[count].set_xlabel('day of week')\n",
    "    axs[count].set_ylabel('number of games at which perk given')\n",
    "    axs[count].set_ylim(0,15)\n",
    "    count+=1"
   ]
  },
  {
   "cell_type": "markdown",
   "metadata": {},
   "source": [
    "It's bobbleheads, then. Based on the provided data, it appears that handing out bobbleheads is promoting Tuesday attendance. If bobbleheads were given on otherwise unspecial Tuesday nights, I suggest more bobblehead nights. If not, I suggest testing by giving them on random nights to see if the positive correlation with attendance holds.\n",
    "\n",
    "Two caveats here: first, people like to establish routines. Perhaps there are \"Tuesday regulars\" attending games. In a future season consider switching bobbleheads to Wednesdays and see if the effect holds. Second: [google tells me](https://dodgerblue.com/los-angeles-dodgers-2020-promotional-and-giveaways-schedule-bobblehead-dates-friday-night-fireworks-more-details/) this was probably a \"collect them all\" type promotion - very clever. It may be that the promotion did not increase attendance but simply shifted it. We would need data from previous years to get an idea."
   ]
  },
  {
   "cell_type": "markdown",
   "metadata": {},
   "source": [
    "Clear skies correlate with higher attendance, but neither can we change the weather nor can we predict it very far in advance. This may also be an artifact of the weather in Los Angeles. Clear skies are more common in the summer, and attendance is probably higher in summer regardless of weather due to schools being out and families taking R&R.\n",
    "![LA cloudy days by season](la_clouds.png)\n",
    "\n",
    "There is a positive correlation with temperature and attendance. But does it hold up month-by-month? Southern California gets uncomfortably hot in late summer and early fall."
   ]
  },
  {
   "cell_type": "code",
   "execution_count": 13,
   "metadata": {},
   "outputs": [
    {
     "data": {
      "text/plain": [
       "array(['APR', 'MAY', 'JUN', 'JUL', 'AUG', 'SEP', 'OCT'], dtype=object)"
      ]
     },
     "execution_count": 13,
     "metadata": {},
     "output_type": "execute_result"
    }
   ],
   "source": [
    "# checking which months are present\n",
    "df.month.unique()"
   ]
  },
  {
   "cell_type": "code",
   "execution_count": 14,
   "metadata": {},
   "outputs": [
    {
     "name": "stdout",
     "output_type": "stream",
     "text": [
      "Month   marginal tickets/deg   probability\n",
      "-----   --------------------   -----------\n",
      " APR             1170           0.022\n",
      " MAY              337           0.412\n",
      " JUN               55           0.902\n",
      " JUL              552           0.487\n",
      " AUG             -105           0.826\n",
      " SEP             -296           0.25\n",
      " OCT             -756           0.796\n"
     ]
    }
   ],
   "source": [
    "# ordering the months\n",
    "months = ['APR','MAY','JUN','JUL','AUG','SEP','OCT']\n",
    "print('Month   marginal tickets/deg   probability')\n",
    "print('-----   --------------------   -----------')\n",
    "for month in months:\n",
    "    x = df[df['month'] == month]['temp']\n",
    "    y = df[df['month'] == month]['attend']\n",
    "    slope, intercept, r_value, p_value, std_err = scipy.stats.linregress(x, y)\n",
    "    print(f'{month:>4} {round(slope):16} {\" \"*10}{round(p_value,3)}')"
   ]
  },
  {
   "cell_type": "markdown",
   "metadata": {},
   "source": [
    "I expect the moderate positive effect of temperature on attendance April-July has to do with warmer temperatures indicating closer to summer, deeper in summer vacation, and/or more exciting games later in the season. The negative correlation between temperature and attendance in the later months warrants closer inspection.\n",
    "\n",
    "One might think that temperatures are cooling down from August to October, but it's not the case in LA. They are still warming up."
   ]
  },
  {
   "cell_type": "code",
   "execution_count": 15,
   "metadata": {},
   "outputs": [
    {
     "data": {
      "image/png": "[encoded data removed]",
      "text/plain": [
       "<Figure size 432x288 with 1 Axes>"
      ]
     },
     "metadata": {
      "needs_background": "light"
     },
     "output_type": "display_data"
    }
   ],
   "source": [
    "# graphing average temperature on game nights by month of hot months\n",
    "fig = plt.figure()\n",
    "ax = fig.add_axes([0,0,1,1])\n",
    "x = months[4:]\n",
    "temps = [df[df['month']==month].temp.mean() for month in x]\n",
    "ax.bar(x,temps)\n",
    "ax.set_xlabel('month')\n",
    "ax.set_ylabel('average gameday temp')\n",
    "# 0 isn't particularly meaningful for degrees F, so I set ymin to LA's absolute 0.\n",
    "plt.ylim(50,90)\n",
    "plt.show()"
   ]
  },
  {
   "cell_type": "markdown",
   "metadata": {},
   "source": [
    "October is fully out of summer break, so distance from summer freedom inhibiting attendance doesn't explain the drop in sales per degree increase in temperature. A reasonable alternate explanation based on this limited data is that the heat supresses attendance."
   ]
  },
  {
   "cell_type": "markdown",
   "metadata": {},
   "source": [
    "### Summary\n",
    "Unless bobbleheads were strategically given out on days of already predictably high attendance, it can be inferred that giving bobbleheads is likely to significantly increase attendance on a given day. Without testing, we cannot deduce the effect on other-day attendance. However it is common practice across industries to use promotions to boost sales on the lowest-sales days, so it's reasonable to assume the same strategy is optimal here to maximize overall attendance. Attendance is likely depressed during the hottest months (August, September, October) by high temperatures.\n",
    "\n",
    "### Recommended actions\n",
    "Give out more bobbleheads. Reserve bonuses (e.g. rare elements of the collectible set) for days with poorer (too hot or cold) weather. Take measures to associate the stadium with \"cool.\" Put \"cool\" in your summer advertising and use cool colors (fortunately the Dodgers color is blue). Install misters, air movers, and temporary shade structures. See that cold treats are being effectively served and advertised at the stadium during hot months. But above all, 81 records is not much to go off of when making big-money decisions about on MLB stadium. The most cost-effective way to improve decision making here would be to gather more data."
   ]
  }
 ],
 "metadata": {
  "kernelspec": {
   "display_name": "Python 3",
   "language": "python",
   "name": "python3"
  },
  "language_info": {
   "codemirror_mode": {
    "name": "ipython",
    "version": 3
   },
   "file_extension": ".py",
   "mimetype": "text/x-python",
   "name": "python",
   "nbconvert_exporter": "python",
   "pygments_lexer": "ipython3",
   "version": "3.8.10"
  }
 },
 "nbformat": 4,
 "nbformat_minor": 4
}
